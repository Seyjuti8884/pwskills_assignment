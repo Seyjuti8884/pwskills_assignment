{
  "nbformat": 4,
  "nbformat_minor": 0,
  "metadata": {
    "colab": {
      "provenance": [],
      "authorship_tag": "ABX9TyMETRSOwKHjvHb0Xvf+Oeg4",
      "include_colab_link": true
    },
    "kernelspec": {
      "name": "python3",
      "display_name": "Python 3"
    },
    "language_info": {
      "name": "python"
    }
  },
  "cells": [
    {
      "cell_type": "markdown",
      "metadata": {
        "id": "view-in-github",
        "colab_type": "text"
      },
      "source": [
        "<a href=\"https://colab.research.google.com/github/Seyjuti8884/pwskills_assignment/blob/main/Regression.ipynb\" target=\"_parent\"><img src=\"https://colab.research.google.com/assets/colab-badge.svg\" alt=\"Open In Colab\"/></a>"
      ]
    },
    {
      "cell_type": "markdown",
      "source": [
        "1. What is Simple Linear Regression?\n",
        "\n",
        "Simple Linear Regression is a statistical method used to model the relationship between two variables by fitting a linear equation to observed data. One variable is independent (predictor), and the other is dependent (response)."
      ],
      "metadata": {
        "id": "bGoscsUZWR9-"
      }
    },
    {
      "cell_type": "markdown",
      "source": [
        "2. What are the key assumptions of Simple Linear Regression?\n",
        "\n",
        "-> Linearity: The relationship between the independent and dependent variable must be linear.\n",
        "\n",
        "-> Independence: The residuals (errors) should be independent.\n",
        "\n",
        "-> Homoscedasticity: The variance of residuals should be constant.\n",
        "\n",
        "-> Normality: The residuals should be normally distributed."
      ],
      "metadata": {
        "id": "HDIyO803WcBr"
      }
    },
    {
      "cell_type": "markdown",
      "source": [
        "3. What does the coefficient m represent in the equation Y = mX + c?\n",
        "\n",
        "The coefficient `m` represents the slope of the regression line. It indicates the change in the dependent variable (Y) for a one-unit increase in the independent variable (X)."
      ],
      "metadata": {
        "id": "XlHSdqwnWfsD"
      }
    },
    {
      "cell_type": "markdown",
      "source": [
        "4. What does the intercept c represent in the equation Y = mX + c?\n",
        "\n",
        "The intercept `c` represents the value of the dependent variable (Y) when the independent variable (X) is zero."
      ],
      "metadata": {
        "id": "41DMjH5nWkpt"
      }
    },
    {
      "cell_type": "markdown",
      "source": [
        "5. How do we calculate the slope m in Simple Linear Regression?\n",
        "\n",
        "The slope `m` is calculated using the formula:\n",
        "\\[ m = \\frac{\\sum{(X_i - \\bar{X})(Y_i - \\bar{Y})}}{\\sum{(X_i - \\bar{X})^2}} \\]\n",
        "where:\n",
        "- \\(X_i\\) and \\(Y_i\\) are individual data points.\n",
        "- \\(\\bar{X}\\) and \\(\\bar{Y}\\) are the mean values of X and Y."
      ],
      "metadata": {
        "id": "K7yIYw_TWpiW"
      }
    },
    {
      "cell_type": "markdown",
      "source": [
        "6. What is the purpose of the least squares method in Simple Linear Regression?\n",
        "\n",
        "The least squares method minimizes the sum of the squared differences between the observed and predicted values to find the best-fitting line."
      ],
      "metadata": {
        "id": "nEKuXDjQWwxU"
      }
    },
    {
      "cell_type": "markdown",
      "source": [
        "7. How is the coefficient of determination (R²) interpreted in Simple Linear Regression?\n",
        "\n",
        "R² measures the proportion of the variance in the dependent variable that is predictable from the independent variable. An R² of 1 indicates perfect prediction."
      ],
      "metadata": {
        "id": "9Um-Mgh2WyDY"
      }
    },
    {
      "cell_type": "markdown",
      "source": [
        "8. What is Multiple Linear Regression?\n",
        "\n",
        "Multiple Linear Regression is an extension of Simple Linear Regression, used to model the relationship between one dependent variable and two or more independent variables."
      ],
      "metadata": {
        "id": "mKNsktLNW78X"
      }
    },
    {
      "cell_type": "markdown",
      "source": [
        " 9. What is the main difference between Simple and Multiple Linear Regression?\n",
        "\n",
        "Simple Linear Regression involves one independent variable, whereas Multiple Linear Regression involves two or more independent variables."
      ],
      "metadata": {
        "id": "cihs5ilmW9vQ"
      }
    },
    {
      "cell_type": "markdown",
      "source": [
        "10. What are the key assumptions of Multiple Linear Regression?\n",
        "\n",
        "-> Linearity\n",
        "\n",
        "-> Independence\n",
        "\n",
        "-> Homoscedasticity\n",
        "\n",
        "-> Normality\n",
        "\n",
        "-> No multicollinearity"
      ],
      "metadata": {
        "id": "Wo1KVjh8XEk8"
      }
    },
    {
      "cell_type": "markdown",
      "source": [
        "11. What is heteroscedasticity, and how does it affect the results of a Multiple Linear Regression model?\n",
        "\n",
        "Heteroscedasticity refers to the unequal spread of residuals across values of the independent variable(s). It can lead to inefficient estimates and invalid statistical tests."
      ],
      "metadata": {
        "id": "NX9ConUvXKLy"
      }
    },
    {
      "cell_type": "markdown",
      "source": [
        "12. How can you improve a Multiple Linear Regression model with high multicollinearity?\n",
        "\n",
        "-> Remove highly correlated predictors.\n",
        "\n",
        "-> Use dimensionality reduction techniques (e.g., PCA).\n",
        "\n",
        "-> Apply regularization methods like Ridge or Lasso regression."
      ],
      "metadata": {
        "id": "c2_BAIVZXQz-"
      }
    },
    {
      "cell_type": "markdown",
      "source": [
        "13. What are some common techniques for transforming categorical variables for use in regression models?\n",
        "\n",
        "-> One-Hot Encoding\n",
        "\n",
        "-> Label Encoding\n",
        "\n",
        "-> Binary Encoding\n",
        "\n",
        "-> Dummy Variables"
      ],
      "metadata": {
        "id": "0B0f_zcYXR5X"
      }
    },
    {
      "cell_type": "markdown",
      "source": [
        "14. What is the role of interaction terms in Multiple Linear Regression?\n",
        "\n",
        "Interaction terms allow modeling of the combined effect of two or more variables on the dependent variable."
      ],
      "metadata": {
        "id": "JHT_4uTAXZIK"
      }
    },
    {
      "cell_type": "markdown",
      "source": [
        "15. How can the interpretation of intercept differ between Simple and Multiple Linear Regression?\n",
        "\n",
        "In Simple Linear Regression, the intercept represents the predicted value of Y when X = 0. In Multiple Linear Regression, it represents the predicted value of Y when all independent variables are zero."
      ],
      "metadata": {
        "id": "-crN299uXc4v"
      }
    },
    {
      "cell_type": "markdown",
      "source": [
        "16. What is the significance of the slope in regression analysis, and how does it affect predictions?\n",
        "\n",
        "The slope indicates the rate of change of the dependent variable with respect to the independent variable. It is critical for making predictions."
      ],
      "metadata": {
        "id": "q1_AVRNRXiyo"
      }
    },
    {
      "cell_type": "markdown",
      "source": [
        "17. How does the intercept in a regression model provide context for the relationship between variables?\n",
        "\n",
        "The intercept provides the baseline value of the dependent variable when all independent variables are zero."
      ],
      "metadata": {
        "id": "8aBqlVVyXlnr"
      }
    },
    {
      "cell_type": "markdown",
      "source": [
        "18. What are the limitations of using R² as a sole measure of model performance?\n",
        "\n",
        "-> It doesn’t account for overfitting.\n",
        "\n",
        "-> It doesn’t measure model accuracy.\n",
        "\n",
        "-> It doesn’t work well for non-linear models."
      ],
      "metadata": {
        "id": "MhYrmbP4XnJr"
      }
    },
    {
      "cell_type": "markdown",
      "source": [
        "19. How would you interpret a large standard error for a regression coefficient?\n",
        "\n",
        "A large standard error indicates that the corresponding coefficient is estimated with low precision, making it less reliable."
      ],
      "metadata": {
        "id": "6y2Jkc0eXqsc"
      }
    },
    {
      "cell_type": "markdown",
      "source": [
        "20. How can heteroscedasticity be identified in residual plots, and why is it important to address it?\n",
        "\n",
        "Heteroscedasticity can be identified by plotting residuals versus predicted values. It is important to address it because it affects the validity of statistical tests.\n"
      ],
      "metadata": {
        "id": "0U2NV9KmXt0H"
      }
    },
    {
      "cell_type": "markdown",
      "source": [
        "21. What does it mean if a Multiple Linear Regression model has a high R² but low adjusted R²?\n",
        "\n",
        "It indicates that additional predictors are not significantly contributing to the model and may be overfitting the data.\n"
      ],
      "metadata": {
        "id": "cYz-h6xEXyIO"
      }
    },
    {
      "cell_type": "markdown",
      "source": [
        "22. Why is it important to scale variables in Multiple Linear Regression?\n",
        "\n",
        "Scaling ensures that all variables are on the same scale, preventing dominance of variables with larger ranges and improving model performance."
      ],
      "metadata": {
        "id": "ActpOuFjX3Ga"
      }
    },
    {
      "cell_type": "markdown",
      "source": [
        "23. What is polynomial regression?\n",
        "\n",
        "Polynomial Regression is a type of regression analysis in which the relationship between the independent variable and the dependent variable is modeled as an nth degree polynomial.\n"
      ],
      "metadata": {
        "id": "8mLRZvzWX6x1"
      }
    },
    {
      "cell_type": "markdown",
      "source": [
        "24. How does polynomial regression differ from linear regression?\n",
        "\n",
        "Polynomial regression can model non-linear relationships, whereas linear regression models only linear relationships."
      ],
      "metadata": {
        "id": "AyI_sQnKX-hs"
      }
    },
    {
      "cell_type": "markdown",
      "source": [
        "25. When is polynomial regression used?\n",
        "\n",
        "It is used when the data shows a non-linear relationship between the independent and dependent variables."
      ],
      "metadata": {
        "id": "uMJoEnz_YBoR"
      }
    },
    {
      "cell_type": "markdown",
      "source": [
        "26. What is the general equation for polynomial regression?\n",
        "\n",
        "\\[ Y = b_0 + b_1X + b_2X^2 + ... + b_nX^n + \\epsilon \\]"
      ],
      "metadata": {
        "id": "HLGdGdeiYFj8"
      }
    },
    {
      "cell_type": "markdown",
      "source": [
        "27. Can polynomial regression be applied to multiple variables?\n",
        "\n",
        "Yes, polynomial regression can be extended to include multiple variables."
      ],
      "metadata": {
        "id": "XxnsyugcYJXu"
      }
    },
    {
      "cell_type": "markdown",
      "source": [
        "28. What are the limitations of polynomial regression?\n",
        "\n",
        "-> Overfitting with higher-degree polynomials.\n",
        "\n",
        "-> Sensitive to outliers.\n",
        "\n",
        "-> Increased complexity with multiple variables."
      ],
      "metadata": {
        "id": "Z0oG9TtAYL_X"
      }
    },
    {
      "cell_type": "markdown",
      "source": [
        "29. What methods can be used to evaluate model fit when selecting the degree of a polynomial?\n",
        "\n",
        "-> Cross-validation\n",
        "\n",
        "-> Adjusted R²\n",
        "\n",
        "-> Residual plots"
      ],
      "metadata": {
        "id": "jecfYVDqYNDD"
      }
    },
    {
      "cell_type": "markdown",
      "source": [
        "30. Why is visualization important in polynomial regression?\n",
        "\n",
        "Visualization helps to understand the fit of the model and whether it appropriately captures the relationship between variables."
      ],
      "metadata": {
        "id": "QjckuipEYPrD"
      }
    },
    {
      "cell_type": "markdown",
      "source": [
        "31. How is polynomial regression implemented in Python?\n",
        "\n",
        "from sklearn.preprocessing import PolynomialFeatures\n",
        "from sklearn.linear_model import LinearRegression\n",
        "from sklearn.pipeline import make_pipeline\n",
        "\n",
        "# Example\n",
        "poly = PolynomialFeatures(degree=3)\n",
        "model = make_pipeline(poly, LinearRegression())\n",
        "model.fit(X, y)"
      ],
      "metadata": {
        "id": "H93P9KHtYUIK"
      }
    }
  ]
}