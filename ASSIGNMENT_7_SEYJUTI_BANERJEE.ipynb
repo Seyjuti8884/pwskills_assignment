{
  "nbformat": 4,
  "nbformat_minor": 0,
  "metadata": {
    "colab": {
      "provenance": [],
      "authorship_tag": "ABX9TyOwveilPFmgwNgiYnu4s6Wv",
      "include_colab_link": true
    },
    "kernelspec": {
      "name": "python3",
      "display_name": "Python 3"
    },
    "language_info": {
      "name": "python"
    }
  },
  "cells": [
    {
      "cell_type": "markdown",
      "metadata": {
        "id": "view-in-github",
        "colab_type": "text"
      },
      "source": [
        "<a href=\"https://colab.research.google.com/github/Seyjuti8884/pwskills_assignment/blob/main/ASSIGNMENT_7_SEYJUTI_BANERJEE.ipynb\" target=\"_parent\"><img src=\"https://colab.research.google.com/assets/colab-badge.svg\" alt=\"Open In Colab\"/></a>"
      ]
    },
    {
      "cell_type": "markdown",
      "source": [
        "PRACTICAL QUESTIONS ASSIGNMENT 7 (Q: 4, 7 ,8)"
      ],
      "metadata": {
        "id": "cvuA_AIl-NqQ"
      }
    },
    {
      "cell_type": "markdown",
      "source": [
        "4. Python Program: Multithreading with threading.Lock"
      ],
      "metadata": {
        "id": "UKhqkxE-9o_w"
      }
    },
    {
      "cell_type": "code",
      "source": [
        "import threading\n",
        "\n",
        "class SharedList:\n",
        "    def __init__(self):\n",
        "        self.list = []\n",
        "        self.lock = threading.Lock()\n",
        "\n",
        "    def add_number(self, number):\n",
        "        with self.lock:\n",
        "            self.list.append(number)\n",
        "            print(f\"Added {number}, List: {self.list}\")\n",
        "\n",
        "    def remove_number(self):\n",
        "        with self.lock:\n",
        "            if self.list:\n",
        "                removed = self.list.pop(0)\n",
        "                print(f\"Removed {removed}, List: {self.list}\")\n",
        "\n",
        "def producer(shared_list):\n",
        "    for i in range(5):\n",
        "        shared_list.add_number(i)\n",
        "\n",
        "def consumer(shared_list):\n",
        "    for _ in range(5):\n",
        "        shared_list.remove_number()\n",
        "\n",
        "shared_list = SharedList()\n",
        "t1 = threading.Thread(target=producer, args=(shared_list,))\n",
        "t2 = threading.Thread(target=consumer, args=(shared_list,))\n",
        "\n",
        "t1.start()\n",
        "t2.start()\n",
        "t1.join()\n",
        "t2.join()\n"
      ],
      "metadata": {
        "colab": {
          "base_uri": "https://localhost:8080/"
        },
        "id": "04M3Kody9qH7",
        "outputId": "d18cbbab-ff8a-44b0-88f7-b9fe703d053f"
      },
      "execution_count": 1,
      "outputs": [
        {
          "output_type": "stream",
          "name": "stdout",
          "text": [
            "Added 0, List: [0]\n",
            "Added 1, List: [0, 1]\n",
            "Added 2, List: [0, 1, 2]\n",
            "Added 3, List: [0, 1, 2, 3]\n",
            "Added 4, List: [0, 1, 2, 3, 4]\n",
            "Removed 0, List: [1, 2, 3, 4]\n",
            "Removed 1, List: [2, 3, 4]\n",
            "Removed 2, List: [3, 4]\n",
            "Removed 3, List: [4]\n",
            "Removed 4, List: []\n"
          ]
        }
      ]
    },
    {
      "cell_type": "markdown",
      "source": [
        "7. Python Program: Thread Pool with ThreadPoolExecutor"
      ],
      "metadata": {
        "id": "LjKwHk0G9yZh"
      }
    },
    {
      "cell_type": "code",
      "source": [
        "from concurrent.futures import ThreadPoolExecutor\n",
        "\n",
        "def factorial(n):\n",
        "    result = 1\n",
        "    for i in range(2, n + 1):\n",
        "        result *= i\n",
        "    print(f\"Factorial of {n}: {result}\")\n",
        "    return result\n",
        "\n",
        "with ThreadPoolExecutor() as executor:\n",
        "    executor.map(factorial, range(1, 11))\n"
      ],
      "metadata": {
        "colab": {
          "base_uri": "https://localhost:8080/"
        },
        "id": "uzpb9fQm92CS",
        "outputId": "1be27bd7-3c71-409f-9146-863d7bb1e455"
      },
      "execution_count": 2,
      "outputs": [
        {
          "output_type": "stream",
          "name": "stdout",
          "text": [
            "Factorial of 1: 1\n",
            "Factorial of 2: 2\n",
            "Factorial of 3: 6\n",
            "Factorial of 4: 24\n",
            "Factorial of 5: 120\n",
            "Factorial of 6: 720\n",
            "Factorial of 7: 5040\n",
            "Factorial of 8: 40320\n",
            "Factorial of 9: 362880\n",
            "Factorial of 10: 3628800\n"
          ]
        }
      ]
    },
    {
      "cell_type": "markdown",
      "source": [
        "8. Python Program: Multiprocessing Pool for Squares"
      ],
      "metadata": {
        "id": "WyrCfUpq95B8"
      }
    },
    {
      "cell_type": "code",
      "source": [
        "from multiprocessing import Pool\n",
        "import time\n",
        "\n",
        "def square(n):\n",
        "    return n * n\n",
        "\n",
        "if __name__ == \"__main__\":\n",
        "    numbers = list(range(1, 11))\n",
        "    for pool_size in [2, 4, 8]:\n",
        "        with Pool(pool_size) as pool:\n",
        "            start_time = time.time()\n",
        "            results = pool.map(square, numbers)\n",
        "            duration = time.time() - start_time\n",
        "            print(f\"Pool size {pool_size}, Results: {results}, Time taken: {duration:.4f}s\")\n"
      ],
      "metadata": {
        "colab": {
          "base_uri": "https://localhost:8080/"
        },
        "id": "JEAIzeqw98au",
        "outputId": "252582da-0bf5-4a70-d99b-339d22c81fa1"
      },
      "execution_count": 3,
      "outputs": [
        {
          "output_type": "stream",
          "name": "stdout",
          "text": [
            "Pool size 2, Results: [1, 4, 9, 16, 25, 36, 49, 64, 81, 100], Time taken: 0.0024s\n",
            "Pool size 4, Results: [1, 4, 9, 16, 25, 36, 49, 64, 81, 100], Time taken: 0.0024s\n",
            "Pool size 8, Results: [1, 4, 9, 16, 25, 36, 49, 64, 81, 100], Time taken: 0.0026s\n"
          ]
        }
      ]
    }
  ]
}