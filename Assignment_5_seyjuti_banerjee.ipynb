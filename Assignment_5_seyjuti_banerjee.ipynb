{
  "nbformat": 4,
  "nbformat_minor": 0,
  "metadata": {
    "colab": {
      "provenance": []
    },
    "kernelspec": {
      "name": "python3",
      "display_name": "Python 3"
    },
    "language_info": {
      "name": "python"
    }
  },
  "cells": [
    {
      "cell_type": "code",
      "execution_count": null,
      "metadata": {
        "id": "DPSEWA35uvgv"
      },
      "outputs": [],
      "source": []
    },
    {
      "cell_type": "markdown",
      "source": [
        "1. 3x3 Array with Random Integers and Transposition"
      ],
      "metadata": {
        "id": "7nAMWOySuxNI"
      }
    },
    {
      "cell_type": "code",
      "source": [
        "import numpy as np\n",
        "\n",
        "# Creating a 3x3 array with random integers between 1 and 100\n",
        "array = np.random.randint(1, 101, (3, 3))\n",
        "print(\"Original Array:\")\n",
        "print(array)\n",
        "\n",
        "# Transposing the array\n",
        "transposed = array.T\n",
        "print(\"\\nTransposed Array:\")\n",
        "print(transposed)\n"
      ],
      "metadata": {
        "colab": {
          "base_uri": "https://localhost:8080/"
        },
        "id": "2Ql37gRauy0e",
        "outputId": "c5a14b99-10da-434c-e037-e388a61e2406"
      },
      "execution_count": 1,
      "outputs": [
        {
          "output_type": "stream",
          "name": "stdout",
          "text": [
            "Original Array:\n",
            "[[66 26 55]\n",
            " [57 26 86]\n",
            " [38 83 54]]\n",
            "\n",
            "Transposed Array:\n",
            "[[66 57 38]\n",
            " [26 26 83]\n",
            " [55 86 54]]\n"
          ]
        }
      ]
    },
    {
      "cell_type": "markdown",
      "source": [
        "2. Reshape 1D Array to 2x5 and 5x2"
      ],
      "metadata": {
        "id": "1ghIc8h3vHGI"
      }
    },
    {
      "cell_type": "code",
      "source": [
        "# Creating a 1D array with 10 elements\n",
        "array = np.arange(10)\n",
        "print(\"Original 1D Array:\")\n",
        "print(array)\n",
        "\n",
        "# Reshaping to 2x5 array\n",
        "reshaped_2x5 = array.reshape(2, 5)\n",
        "print(\"\\nReshaped to 2x5 Array:\")\n",
        "print(reshaped_2x5)\n",
        "\n",
        "# Reshaping to 5x2 array\n",
        "reshaped_5x2 = array.reshape(5, 2)\n",
        "print(\"\\nReshaped to 5x2 Array:\")\n",
        "print(reshaped_5x2)\n"
      ],
      "metadata": {
        "colab": {
          "base_uri": "https://localhost:8080/"
        },
        "id": "jgqXcdhEvJOv",
        "outputId": "9bd5da98-b333-4e7e-97ab-bd8172addb81"
      },
      "execution_count": 2,
      "outputs": [
        {
          "output_type": "stream",
          "name": "stdout",
          "text": [
            "Original 1D Array:\n",
            "[0 1 2 3 4 5 6 7 8 9]\n",
            "\n",
            "Reshaped to 2x5 Array:\n",
            "[[0 1 2 3 4]\n",
            " [5 6 7 8 9]]\n",
            "\n",
            "Reshaped to 5x2 Array:\n",
            "[[0 1]\n",
            " [2 3]\n",
            " [4 5]\n",
            " [6 7]\n",
            " [8 9]]\n"
          ]
        }
      ]
    },
    {
      "cell_type": "markdown",
      "source": [
        "3. 4x4 Array with Zero Border"
      ],
      "metadata": {
        "id": "4v3WE1XovPEC"
      }
    },
    {
      "cell_type": "code",
      "source": [
        "# Creating a 4x4 array with random float values\n",
        "array = np.random.rand(4, 4)\n",
        "print(\"Original 4x4 Array:\")\n",
        "print(array)\n",
        "\n",
        "# Adding a border of zeros to create a 6x6 array\n",
        "bordered_array = np.pad(array, pad_width=1, mode='constant', constant_values=0)\n",
        "print(\"\\n6x6 Array with Zero Border:\")\n",
        "print(bordered_array)\n"
      ],
      "metadata": {
        "colab": {
          "base_uri": "https://localhost:8080/"
        },
        "id": "Kg8x33A2vQu4",
        "outputId": "a9f7c39a-5fbb-4b35-a07a-b575a476dd20"
      },
      "execution_count": 3,
      "outputs": [
        {
          "output_type": "stream",
          "name": "stdout",
          "text": [
            "Original 4x4 Array:\n",
            "[[0.47826811 0.95619834 0.2007621  0.50437418]\n",
            " [0.07798976 0.38726437 0.72198619 0.60522499]\n",
            " [0.10072007 0.20439268 0.28322535 0.66018835]\n",
            " [0.99479252 0.03620259 0.96040771 0.37082845]]\n",
            "\n",
            "6x6 Array with Zero Border:\n",
            "[[0.         0.         0.         0.         0.         0.        ]\n",
            " [0.         0.47826811 0.95619834 0.2007621  0.50437418 0.        ]\n",
            " [0.         0.07798976 0.38726437 0.72198619 0.60522499 0.        ]\n",
            " [0.         0.10072007 0.20439268 0.28322535 0.66018835 0.        ]\n",
            " [0.         0.99479252 0.03620259 0.96040771 0.37082845 0.        ]\n",
            " [0.         0.         0.         0.         0.         0.        ]]\n"
          ]
        }
      ]
    },
    {
      "cell_type": "markdown",
      "source": [
        "4. Array of Integers from 10 to 60 with Step 5"
      ],
      "metadata": {
        "id": "im_P_68MvUSP"
      }
    },
    {
      "cell_type": "code",
      "source": [
        "# Creating an array from 10 to 60 with a step of 5\n",
        "array = np.arange(10, 61, 5)\n",
        "print(\"Array with Step of 5:\")\n",
        "print(array)\n"
      ],
      "metadata": {
        "colab": {
          "base_uri": "https://localhost:8080/"
        },
        "id": "VTvcjYBuvYhV",
        "outputId": "85d6cf2b-badd-4771-a776-584ff4169a13"
      },
      "execution_count": 4,
      "outputs": [
        {
          "output_type": "stream",
          "name": "stdout",
          "text": [
            "Array with Step of 5:\n",
            "[10 15 20 25 30 35 40 45 50 55 60]\n"
          ]
        }
      ]
    },
    {
      "cell_type": "markdown",
      "source": [
        "5. String Array with Case Transformations"
      ],
      "metadata": {
        "id": "pj0hB_dxvcQ4"
      }
    },
    {
      "cell_type": "code",
      "source": [
        "# Creating an array of strings\n",
        "strings = np.array(['python', 'numpy', 'pandas'])\n",
        "print(\"Original Strings:\")\n",
        "print(strings)\n",
        "\n",
        "# Applying case transformations\n",
        "uppercase = np.char.upper(strings)\n",
        "lowercase = np.char.lower(strings)\n",
        "titlecase = np.char.title(strings)\n",
        "\n",
        "print(\"\\nUppercase:\")\n",
        "print(uppercase)\n",
        "print(\"\\nLowercase:\")\n",
        "print(lowercase)\n",
        "print(\"\\nTitle Case:\")\n",
        "print(titlecase)\n"
      ],
      "metadata": {
        "colab": {
          "base_uri": "https://localhost:8080/"
        },
        "id": "Pi38-Q3Jvg60",
        "outputId": "412deeb9-4207-498c-84e9-429b13eac25a"
      },
      "execution_count": 5,
      "outputs": [
        {
          "output_type": "stream",
          "name": "stdout",
          "text": [
            "Original Strings:\n",
            "['python' 'numpy' 'pandas']\n",
            "\n",
            "Uppercase:\n",
            "['PYTHON' 'NUMPY' 'PANDAS']\n",
            "\n",
            "Lowercase:\n",
            "['python' 'numpy' 'pandas']\n",
            "\n",
            "Title Case:\n",
            "['Python' 'Numpy' 'Pandas']\n"
          ]
        }
      ]
    },
    {
      "cell_type": "markdown",
      "source": [
        "6. Insert Spaces Between Characters in Words"
      ],
      "metadata": {
        "id": "dTceXdl8vot9"
      }
    },
    {
      "cell_type": "code",
      "source": [
        "# Creating an array of words\n",
        "words = np.array(['python', 'numpy'])\n",
        "print(\"Original Words:\")\n",
        "print(words)\n",
        "\n",
        "# Inserting spaces between characters\n",
        "spaced_words = np.char.join(' ', words)\n",
        "print(\"\\nWords with Spaces Between Characters:\")\n",
        "print(spaced_words)\n"
      ],
      "metadata": {
        "colab": {
          "base_uri": "https://localhost:8080/"
        },
        "id": "l_L536O8vqdQ",
        "outputId": "a34917dc-a516-464d-cf79-09597c3bd324"
      },
      "execution_count": 6,
      "outputs": [
        {
          "output_type": "stream",
          "name": "stdout",
          "text": [
            "Original Words:\n",
            "['python' 'numpy']\n",
            "\n",
            "Words with Spaces Between Characters:\n",
            "['p y t h o n' 'n u m p y']\n"
          ]
        }
      ]
    },
    {
      "cell_type": "markdown",
      "source": [
        "7. Element-wise Operations on Two 2D Arrays"
      ],
      "metadata": {
        "id": "Kev4miyLvttj"
      }
    },
    {
      "cell_type": "code",
      "source": [
        "# Creating two 2D arrays\n",
        "array1 = np.array([[1, 2], [3, 4]])\n",
        "array2 = np.array([[5, 6], [7, 8]])\n",
        "print(\"Array 1:\")\n",
        "print(array1)\n",
        "print(\"\\nArray 2:\")\n",
        "print(array2)\n",
        "\n",
        "# Performing element-wise operations\n",
        "addition = array1 + array2\n",
        "subtraction = array1 - array2\n",
        "multiplication = array1 * array2\n",
        "division = array1 / array2\n",
        "\n",
        "print(\"\\nAddition:\")\n",
        "print(addition)\n",
        "print(\"\\nSubtraction:\")\n",
        "print(subtraction)\n",
        "print(\"\\nMultiplication:\")\n",
        "print(multiplication)\n",
        "print(\"\\nDivision:\")\n",
        "print(division)\n"
      ],
      "metadata": {
        "colab": {
          "base_uri": "https://localhost:8080/"
        },
        "id": "WtxhQhJqvxX7",
        "outputId": "c70b132e-8cf6-4cac-9241-bbf1e93c71a1"
      },
      "execution_count": 7,
      "outputs": [
        {
          "output_type": "stream",
          "name": "stdout",
          "text": [
            "Array 1:\n",
            "[[1 2]\n",
            " [3 4]]\n",
            "\n",
            "Array 2:\n",
            "[[5 6]\n",
            " [7 8]]\n",
            "\n",
            "Addition:\n",
            "[[ 6  8]\n",
            " [10 12]]\n",
            "\n",
            "Subtraction:\n",
            "[[-4 -4]\n",
            " [-4 -4]]\n",
            "\n",
            "Multiplication:\n",
            "[[ 5 12]\n",
            " [21 32]]\n",
            "\n",
            "Division:\n",
            "[[0.2        0.33333333]\n",
            " [0.42857143 0.5       ]]\n"
          ]
        }
      ]
    },
    {
      "cell_type": "markdown",
      "source": [
        "8. 5x5 Identity Matrix and Diagonal Extraction"
      ],
      "metadata": {
        "id": "3vmUKzCkv1F9"
      }
    },
    {
      "cell_type": "code",
      "source": [
        "# Creating a 5x5 identity matrix\n",
        "identity_matrix = np.eye(5)\n",
        "print(\"5x5 Identity Matrix:\")\n",
        "print(identity_matrix)\n",
        "\n",
        "# Extracting the diagonal elements\n",
        "diagonal_elements = np.diag(identity_matrix)\n",
        "print(\"\\nDiagonal Elements:\")\n",
        "print(diagonal_elements)\n"
      ],
      "metadata": {
        "colab": {
          "base_uri": "https://localhost:8080/"
        },
        "id": "JYglOSyQv5Gv",
        "outputId": "e1acfcfc-e364-4e29-da56-e00c819c9ec7"
      },
      "execution_count": 8,
      "outputs": [
        {
          "output_type": "stream",
          "name": "stdout",
          "text": [
            "5x5 Identity Matrix:\n",
            "[[1. 0. 0. 0. 0.]\n",
            " [0. 1. 0. 0. 0.]\n",
            " [0. 0. 1. 0. 0.]\n",
            " [0. 0. 0. 1. 0.]\n",
            " [0. 0. 0. 0. 1.]]\n",
            "\n",
            "Diagonal Elements:\n",
            "[1. 1. 1. 1. 1.]\n"
          ]
        }
      ]
    },
    {
      "cell_type": "markdown",
      "source": [
        "9. Prime Numbers in a 100-element Array"
      ],
      "metadata": {
        "id": "mFKpUIq-v-eH"
      }
    },
    {
      "cell_type": "code",
      "source": [
        "from sympy import isprime\n",
        "\n",
        "# Generating an array of 100 random integers between 0 and 1000\n",
        "array = np.random.randint(0, 1000, 100)\n",
        "print(\"Original Array:\")\n",
        "print(array)\n",
        "\n",
        "# Finding and displaying all prime numbers\n",
        "primes = [num for num in array if isprime(num)]\n",
        "print(\"\\nPrime Numbers in the Array:\")\n",
        "print(primes)\n"
      ],
      "metadata": {
        "colab": {
          "base_uri": "https://localhost:8080/"
        },
        "id": "btXRsNffwAvs",
        "outputId": "347d84c1-9bf1-47ae-c5f9-8276a5df3f41"
      },
      "execution_count": 9,
      "outputs": [
        {
          "output_type": "stream",
          "name": "stdout",
          "text": [
            "Original Array:\n",
            "[913 761 834 214 775 268 204 561 202 248 213 453 261 622 978  82 700 684\n",
            " 171 162 334 769 933   7 780 932 452 689 261 326 279  82 437 858 253 819\n",
            " 578 267 985 747 638 665 802  64 406 668  54 539 312 365 323 390 250 246\n",
            " 896 867 762 411 387 752 701 467 796 225 429 365 528 540  38  60 715 183\n",
            " 153 654 706  39 878 744 713 783 712 905 950 308 494 372 504  65 365 420\n",
            " 904 994 843  65 290 587 901  43 255 295]\n",
            "\n",
            "Prime Numbers in the Array:\n",
            "[761, 769, 7, 701, 467, 587, 43]\n"
          ]
        }
      ]
    },
    {
      "cell_type": "markdown",
      "source": [
        "10. Weekly Averages from Daily Temperatures"
      ],
      "metadata": {
        "id": "ytgj4yjbwFTS"
      }
    },
    {
      "cell_type": "code",
      "source": [
        "temperatures = np.random.rand(30) * 30  # Random temperatures\n",
        "weekly_averages = [np.mean(temperatures[i:i + 7]) for i in range(0, 30, 7)]\n",
        "print(weekly_averages)\n"
      ],
      "metadata": {
        "colab": {
          "base_uri": "https://localhost:8080/"
        },
        "id": "RPPWQB7kwGhg",
        "outputId": "6a576ae4-97fc-47db-98b1-1e73c3ae2e77"
      },
      "execution_count": 12,
      "outputs": [
        {
          "output_type": "stream",
          "name": "stdout",
          "text": [
            "[12.517495782198548, 11.818371552048157, 18.71951531109669, 17.87948291800228, 18.3070893480247]\n"
          ]
        }
      ]
    }
  ]
}