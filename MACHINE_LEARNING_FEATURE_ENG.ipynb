{
  "nbformat": 4,
  "nbformat_minor": 0,
  "metadata": {
    "colab": {
      "provenance": [],
      "authorship_tag": "ABX9TyO6SLNsbFqHvOafZO20alAE",
      "include_colab_link": true
    },
    "kernelspec": {
      "name": "python3",
      "display_name": "Python 3"
    },
    "language_info": {
      "name": "python"
    }
  },
  "cells": [
    {
      "cell_type": "markdown",
      "metadata": {
        "id": "view-in-github",
        "colab_type": "text"
      },
      "source": [
        "<a href=\"https://colab.research.google.com/github/Seyjuti8884/pwskills_assignment/blob/main/MACHINE_LEARNING_FEATURE_ENG.ipynb\" target=\"_parent\"><img src=\"https://colab.research.google.com/assets/colab-badge.svg\" alt=\"Open In Colab\"/></a>"
      ]
    },
    {
      "cell_type": "code",
      "execution_count": null,
      "metadata": {
        "id": "lHwCW4yPTgDQ"
      },
      "outputs": [],
      "source": []
    },
    {
      "cell_type": "markdown",
      "source": [
        "1. What is a parameter?"
      ],
      "metadata": {
        "id": "6jgdg7VlTguK"
      }
    },
    {
      "cell_type": "markdown",
      "source": [
        "ANS) A parameter is a measurable factor that defines certain characteristics of a system or model. In Machine Learning, parameters are variables that the model learns during training, such as weights and biases."
      ],
      "metadata": {
        "id": "1_xFAYTBTkoT"
      }
    },
    {
      "cell_type": "markdown",
      "source": [
        "2. What is correlation?"
      ],
      "metadata": {
        "id": "Ssm3kf8SToZI"
      }
    },
    {
      "cell_type": "markdown",
      "source": [
        "ANS) Correlation measures the relationship between two variables, indicating how one variable changes in relation to another. It ranges from -1 to 1, with:\n",
        "\n",
        "1: Perfect positive correlation\n",
        "\n",
        "0: No correlation\n",
        "\n",
        "-1: Perfect negative correlation"
      ],
      "metadata": {
        "id": "S7QspC88Tq6T"
      }
    },
    {
      "cell_type": "markdown",
      "source": [
        "3. What does negative correlation mean?"
      ],
      "metadata": {
        "id": "40BQByrvTwWt"
      }
    },
    {
      "cell_type": "markdown",
      "source": [
        "ANS) Negative correlation indicates that as one variable increases, the other decreases. For example, as temperature increases, the sale of winter coats typically decreases."
      ],
      "metadata": {
        "id": "-VI4pMMvT1PM"
      }
    },
    {
      "cell_type": "markdown",
      "source": [
        "4. Define Machine Learning. What are the main components in Machine Learning?"
      ],
      "metadata": {
        "id": "fkLtiO-rT4fg"
      }
    },
    {
      "cell_type": "markdown",
      "source": [
        "ANS) Machine Learning is a branch of artificial intelligence where algorithms learn patterns from data to make predictions or decisions without explicit programming.\n",
        "The main components include:\n",
        "\n",
        "Data: Raw information for training and testing the model.\n",
        "\n",
        "Features: Relevant variables extracted from the data.\n",
        "\n",
        "Model: Algorithm used for learning.\n",
        "\n",
        "Training: Process of learning from data.\n",
        "\n",
        "Evaluation: Assessing the model's performance"
      ],
      "metadata": {
        "id": "rN5bZu5VT7Ci"
      }
    },
    {
      "cell_type": "markdown",
      "source": [
        "5. How does loss value help in determining whether the model is good or not?"
      ],
      "metadata": {
        "id": "KD9oRCejUCwi"
      }
    },
    {
      "cell_type": "markdown",
      "source": [
        "ANS) The loss value quantifies the difference between the model's predictions and actual outcomes. A lower loss value indicates a better model, while a higher loss suggests poor performance."
      ],
      "metadata": {
        "id": "vPIFh_THUDto"
      }
    },
    {
      "cell_type": "markdown",
      "source": [
        "6. What are continuous and categorical variables?"
      ],
      "metadata": {
        "id": "w7UZAgQ7UGpn"
      }
    },
    {
      "cell_type": "markdown",
      "source": [
        "ANS) Continuous Variables: Numeric variables that can take any value within a range (e.g., height, weight).\n",
        "\n",
        "Categorical Variables: Variables representing distinct categories or groups (e.g., gender, color)."
      ],
      "metadata": {
        "id": "NTo_6QP8UJux"
      }
    },
    {
      "cell_type": "markdown",
      "source": [
        "7. How do we handle categorical variables in Machine Learning? What are the common techniques?"
      ],
      "metadata": {
        "id": "LGTNsAMtUQqc"
      }
    },
    {
      "cell_type": "markdown",
      "source": [
        "ANS) Categorical variables are handled by encoding them into numerical formats, such as:\n",
        "\n",
        "One-hot encoding: Creates binary columns for each category.\n",
        "\n",
        "Label encoding: Assigns numerical labels to categories.\n",
        "\n",
        "Binary encoding: Converts categories into binary numbers."
      ],
      "metadata": {
        "id": "yZiwSVBRUT_v"
      }
    },
    {
      "cell_type": "markdown",
      "source": [
        "8.  What do you mean by training and testing a dataset?"
      ],
      "metadata": {
        "id": "1G7jVFmfUZjX"
      }
    },
    {
      "cell_type": "markdown",
      "source": [
        "ANS) Training Dataset: Used to teach the model by fitting it to the data.\n",
        "\n",
        "Testing Dataset: Used to evaluate the model's performance on unseen data."
      ],
      "metadata": {
        "id": "Ta0-h1ZjUak0"
      }
    },
    {
      "cell_type": "markdown",
      "source": [
        "9. What is sklearn.preprocessing?"
      ],
      "metadata": {
        "id": "V_AxN2m4UeF5"
      }
    },
    {
      "cell_type": "markdown",
      "source": [
        "ANS) sklearn.preprocessing is a module in the Scikit-learn library that provides tools for data preprocessing, such as scaling, normalization, and encoding."
      ],
      "metadata": {
        "id": "WcjjEpsSUggE"
      }
    },
    {
      "cell_type": "markdown",
      "source": [
        "10. What is a Test set?"
      ],
      "metadata": {
        "id": "ugS5nMwMUjE8"
      }
    },
    {
      "cell_type": "markdown",
      "source": [
        "ANS) A test set is a portion of the dataset used exclusively for evaluating the model's performance after training."
      ],
      "metadata": {
        "id": "92zeVW7OUmCi"
      }
    },
    {
      "cell_type": "markdown",
      "source": [
        "11.  How do we split data for model fitting (training and testing) in Python?"
      ],
      "metadata": {
        "id": "DigdNLJbUooq"
      }
    },
    {
      "cell_type": "markdown",
      "source": [
        "ANS) Data can be split using train_test_split from Scikit-learn:"
      ],
      "metadata": {
        "id": "cAXr3szTUrRp"
      }
    },
    {
      "cell_type": "code",
      "source": [
        "from sklearn.model_selection import train_test_split\n",
        "# X_train, X_test, y_train, y_test = train_test_split(X, y, test_size=0.2, random_state=42)\n"
      ],
      "metadata": {
        "id": "7fM9CUioUwIA"
      },
      "execution_count": 2,
      "outputs": []
    },
    {
      "cell_type": "markdown",
      "source": [
        "12.  How do you approach a Machine Learning problem?"
      ],
      "metadata": {
        "id": "7WSEL4BAUza8"
      }
    },
    {
      "cell_type": "markdown",
      "source": [
        "ANS)\n",
        "\n",
        "-> Understand the problem.\n",
        "\n",
        "-> Collect and preprocess data.\n",
        "\n",
        "-> Perform exploratory data analysis (EDA).\n",
        "\n",
        "-> Select an appropriate model.\n",
        "\n",
        "-> Train and evaluate the model.\n",
        "\n",
        "-> Optimize and deploy the model.\n",
        "\n"
      ],
      "metadata": {
        "id": "Pna_j4fGU2eB"
      }
    },
    {
      "cell_type": "markdown",
      "source": [
        "13.  Why do we have to perform EDA before fitting a model to the data?"
      ],
      "metadata": {
        "id": "MaejoXEFVafZ"
      }
    },
    {
      "cell_type": "markdown",
      "source": [
        "ANS) EDA helps:\n",
        "\n",
        "-> Understand data distribution.\n",
        "-> Identify missing values and outliers.\n",
        "-> Select appropriate features for modeling."
      ],
      "metadata": {
        "id": "R1sG62CfVdu3"
      }
    },
    {
      "cell_type": "markdown",
      "source": [
        "14. How can you find correlation between variables in Python?"
      ],
      "metadata": {
        "id": "7RQdt2thVjZ2"
      }
    },
    {
      "cell_type": "markdown",
      "source": [
        "ANS) You can compute correlation using:\n",
        "\n",
        "pandas: data.corr()\n",
        "\n",
        "numpy: np.corrcoef(x, y)"
      ],
      "metadata": {
        "id": "IHDJ1-loVmM-"
      }
    },
    {
      "cell_type": "markdown",
      "source": [
        "15. What is causation? Explain the difference between correlation and causation with an example."
      ],
      "metadata": {
        "id": "ae396_CRVxFl"
      }
    },
    {
      "cell_type": "markdown",
      "source": [
        "ANS) Causation: A cause-and-effect relationship where one variable directly impacts another.\n",
        "\n",
        "Correlation: Indicates association but not causation.\n",
        "\n",
        "Example:\n",
        "\n",
        "Correlation: Ice cream sales and drowning incidents both increase in summer.\n",
        "\n",
        "Causation: Eating ice cream does not cause drowning."
      ],
      "metadata": {
        "id": "IJGZcvGVVz3q"
      }
    },
    {
      "cell_type": "markdown",
      "source": [
        "16. What is an Optimizer? What are different types of optimizers? Explain each with an example."
      ],
      "metadata": {
        "id": "qAwnCAWaV8Ql"
      }
    },
    {
      "cell_type": "markdown",
      "source": [
        "ANS) An optimizer adjusts model parameters to minimize the loss function. Common optimizers include:\n",
        "\n",
        "Gradient Descent: Updates parameters in the direction of the steepest descent.\n",
        "\n",
        "Adam Optimizer: Combines momentum and adaptive learning rates for faster convergence.\n",
        "\n",
        "RMSProp: Uses a moving average of squared gradients for learning rate adjustment."
      ],
      "metadata": {
        "id": "-bhXgdBBV-4I"
      }
    },
    {
      "cell_type": "markdown",
      "source": [
        "17. What is sklearn.linear_model?"
      ],
      "metadata": {
        "id": "dwSmYZG0WHXF"
      }
    },
    {
      "cell_type": "markdown",
      "source": [
        "ANS) sklearn.linear_model is a module in Scikit-learn that provides tools for implementing linear models such as Linear Regression and Logistic Regression."
      ],
      "metadata": {
        "id": "Ky3P8aHVWILq"
      }
    },
    {
      "cell_type": "markdown",
      "source": [
        "18. What does model.fit() do? What arguments must be given?"
      ],
      "metadata": {
        "id": "z0JZgOnkWL4_"
      }
    },
    {
      "cell_type": "markdown",
      "source": [
        "ANS) model.fit() trains a model using the provided data. Required arguments include:\n",
        "\n",
        "X: Features\n",
        "\n",
        "y: Target labels"
      ],
      "metadata": {
        "id": "x53_-bVwWOWT"
      }
    },
    {
      "cell_type": "markdown",
      "source": [
        "19. What does model.predict() do? What arguments must be given?"
      ],
      "metadata": {
        "id": "oRYAdH0fWXDv"
      }
    },
    {
      "cell_type": "markdown",
      "source": [
        "ANS) model.predict() generates predictions from a trained model. It requires the input features (X) for which predictions are needed."
      ],
      "metadata": {
        "id": "-ePayIJUWZea"
      }
    },
    {
      "cell_type": "markdown",
      "source": [
        "20. What is feature scaling? How does it help in Machine Learning?"
      ],
      "metadata": {
        "id": "1KjVtoLbWcWy"
      }
    },
    {
      "cell_type": "markdown",
      "source": [
        "ANS) Feature scaling ensures all features are on the same scale, improving model performance and convergence speed."
      ],
      "metadata": {
        "id": "iIgwh996We4t"
      }
    },
    {
      "cell_type": "markdown",
      "source": [
        "21. How do we perform scaling in Python?"
      ],
      "metadata": {
        "id": "Ojv_fzynWhR0"
      }
    },
    {
      "cell_type": "code",
      "source": [
        "from sklearn.preprocessing import StandardScaler\n",
        "scaler = StandardScaler()\n",
        "scaled_data = scaler.fit_transform#data\n"
      ],
      "metadata": {
        "id": "gXof8lpVWj5g"
      },
      "execution_count": 4,
      "outputs": []
    },
    {
      "cell_type": "markdown",
      "source": [
        "22. Explain data encoding."
      ],
      "metadata": {
        "id": "5HqU0G8_Wl1F"
      }
    },
    {
      "cell_type": "markdown",
      "source": [
        "ANS) Data encoding converts categorical data into numerical representations. Techniques include:\n",
        "\n",
        "One-hot encoding\n",
        "\n",
        "Label encoding\n",
        "\n",
        "Binary encoding"
      ],
      "metadata": {
        "id": "Vo8nM77hWtAf"
      }
    }
  ]
}